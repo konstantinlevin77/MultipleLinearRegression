{
 "cells": [
  {
   "cell_type": "markdown",
   "id": "3d2f80a2",
   "metadata": {},
   "source": [
    "# Multiple Linear Regression\n",
    "\n",
    "## Introduction\n",
    "\n",
    "Back in the day when I was in 10th grade, I didn't know that much math but I was really interested in machine learning. So I just focused on the APIs and the general intuition behind the algorithms. \n",
    "\n",
    "This year however, I graduated from the high school and know a little bit more math (especially I've learned some calculus) so I've decided to learn all the algorithms from scratch with their math backgrounds. And this is my first step :)\n",
    "\n",
    "I'm looking forward to see your suggestions and improvements :)"
   ]
  },
  {
   "cell_type": "markdown",
   "id": "71c3e99b",
   "metadata": {},
   "source": [
    "## Loading Data\n",
    "\n",
    "Dataset is shared by Nikhil Narayan, thanks for the contribution. [Kaggle dataset link](https://www.kaggle.com/datasets/nikhil7280/student-performance-multiple-linear-regression)"
   ]
  },
  {
   "cell_type": "code",
   "execution_count": 1,
   "id": "3f0260c1",
   "metadata": {},
   "outputs": [],
   "source": [
    "import numpy as np\n",
    "import pandas as pd\n",
    "import matplotlib.pyplot as plt\n",
    "import copy\n"
   ]
  },
  {
   "cell_type": "code",
   "execution_count": 2,
   "id": "a7c71983",
   "metadata": {},
   "outputs": [
    {
     "data": {
      "text/html": [
       "<div>\n",
       "<style scoped>\n",
       "    .dataframe tbody tr th:only-of-type {\n",
       "        vertical-align: middle;\n",
       "    }\n",
       "\n",
       "    .dataframe tbody tr th {\n",
       "        vertical-align: top;\n",
       "    }\n",
       "\n",
       "    .dataframe thead th {\n",
       "        text-align: right;\n",
       "    }\n",
       "</style>\n",
       "<table border=\"1\" class=\"dataframe\">\n",
       "  <thead>\n",
       "    <tr style=\"text-align: right;\">\n",
       "      <th></th>\n",
       "      <th>Hours Studied</th>\n",
       "      <th>Previous Scores</th>\n",
       "      <th>Extracurricular Activities</th>\n",
       "      <th>Sleep Hours</th>\n",
       "      <th>Sample Question Papers Practiced</th>\n",
       "      <th>Performance Index</th>\n",
       "    </tr>\n",
       "  </thead>\n",
       "  <tbody>\n",
       "    <tr>\n",
       "      <th>0</th>\n",
       "      <td>7</td>\n",
       "      <td>99</td>\n",
       "      <td>Yes</td>\n",
       "      <td>9</td>\n",
       "      <td>1</td>\n",
       "      <td>91.0</td>\n",
       "    </tr>\n",
       "    <tr>\n",
       "      <th>1</th>\n",
       "      <td>4</td>\n",
       "      <td>82</td>\n",
       "      <td>No</td>\n",
       "      <td>4</td>\n",
       "      <td>2</td>\n",
       "      <td>65.0</td>\n",
       "    </tr>\n",
       "    <tr>\n",
       "      <th>2</th>\n",
       "      <td>8</td>\n",
       "      <td>51</td>\n",
       "      <td>Yes</td>\n",
       "      <td>7</td>\n",
       "      <td>2</td>\n",
       "      <td>45.0</td>\n",
       "    </tr>\n",
       "    <tr>\n",
       "      <th>3</th>\n",
       "      <td>5</td>\n",
       "      <td>52</td>\n",
       "      <td>Yes</td>\n",
       "      <td>5</td>\n",
       "      <td>2</td>\n",
       "      <td>36.0</td>\n",
       "    </tr>\n",
       "    <tr>\n",
       "      <th>4</th>\n",
       "      <td>7</td>\n",
       "      <td>75</td>\n",
       "      <td>No</td>\n",
       "      <td>8</td>\n",
       "      <td>5</td>\n",
       "      <td>66.0</td>\n",
       "    </tr>\n",
       "  </tbody>\n",
       "</table>\n",
       "</div>"
      ],
      "text/plain": [
       "   Hours Studied  Previous Scores Extracurricular Activities  Sleep Hours  \\\n",
       "0              7               99                        Yes            9   \n",
       "1              4               82                         No            4   \n",
       "2              8               51                        Yes            7   \n",
       "3              5               52                        Yes            5   \n",
       "4              7               75                         No            8   \n",
       "\n",
       "   Sample Question Papers Practiced  Performance Index  \n",
       "0                                 1               91.0  \n",
       "1                                 2               65.0  \n",
       "2                                 2               45.0  \n",
       "3                                 2               36.0  \n",
       "4                                 5               66.0  "
      ]
     },
     "execution_count": 2,
     "metadata": {},
     "output_type": "execute_result"
    }
   ],
   "source": [
    "data = pd.read_csv(\"Student_Performance.csv\")\n",
    "data.head()"
   ]
  },
  {
   "cell_type": "code",
   "execution_count": 3,
   "id": "e3a2d90c",
   "metadata": {},
   "outputs": [
    {
     "name": "stdout",
     "output_type": "stream",
     "text": [
      "<class 'pandas.core.frame.DataFrame'>\n",
      "RangeIndex: 10000 entries, 0 to 9999\n",
      "Data columns (total 6 columns):\n",
      " #   Column                            Non-Null Count  Dtype  \n",
      "---  ------                            --------------  -----  \n",
      " 0   Hours Studied                     10000 non-null  int64  \n",
      " 1   Previous Scores                   10000 non-null  int64  \n",
      " 2   Extracurricular Activities        10000 non-null  object \n",
      " 3   Sleep Hours                       10000 non-null  int64  \n",
      " 4   Sample Question Papers Practiced  10000 non-null  int64  \n",
      " 5   Performance Index                 10000 non-null  float64\n",
      "dtypes: float64(1), int64(4), object(1)\n",
      "memory usage: 468.9+ KB\n"
     ]
    }
   ],
   "source": [
    "data.info()"
   ]
  },
  {
   "cell_type": "markdown",
   "id": "a515ca73",
   "metadata": {},
   "source": [
    "* Feature \"Extracurricular Activities\" is a boolean feature (it only consists of Yes or No) but it's given in strings, we should convert them to integers."
   ]
  },
  {
   "cell_type": "code",
   "execution_count": 4,
   "id": "faa40ee0",
   "metadata": {},
   "outputs": [],
   "source": [
    "boolean_extactivites = []\n",
    "for x in data[\"Extracurricular Activities\"]:\n",
    "    if x==\"Yes\":\n",
    "        boolean_extactivites.append(1)\n",
    "    elif x==\"No\":\n",
    "        boolean_extactivites.append(0)\n",
    "    else:\n",
    "        raise Exception(\"There's something else than yes or no!\")\n",
    "        "
   ]
  },
  {
   "cell_type": "code",
   "execution_count": 5,
   "id": "dfb0cd6e",
   "metadata": {},
   "outputs": [
    {
     "data": {
      "text/html": [
       "<div>\n",
       "<style scoped>\n",
       "    .dataframe tbody tr th:only-of-type {\n",
       "        vertical-align: middle;\n",
       "    }\n",
       "\n",
       "    .dataframe tbody tr th {\n",
       "        vertical-align: top;\n",
       "    }\n",
       "\n",
       "    .dataframe thead th {\n",
       "        text-align: right;\n",
       "    }\n",
       "</style>\n",
       "<table border=\"1\" class=\"dataframe\">\n",
       "  <thead>\n",
       "    <tr style=\"text-align: right;\">\n",
       "      <th></th>\n",
       "      <th>Hours Studied</th>\n",
       "      <th>Previous Scores</th>\n",
       "      <th>Extracurricular Activities</th>\n",
       "      <th>Sleep Hours</th>\n",
       "      <th>Sample Question Papers Practiced</th>\n",
       "      <th>Performance Index</th>\n",
       "    </tr>\n",
       "  </thead>\n",
       "  <tbody>\n",
       "    <tr>\n",
       "      <th>0</th>\n",
       "      <td>7</td>\n",
       "      <td>99</td>\n",
       "      <td>1</td>\n",
       "      <td>9</td>\n",
       "      <td>1</td>\n",
       "      <td>91.0</td>\n",
       "    </tr>\n",
       "    <tr>\n",
       "      <th>1</th>\n",
       "      <td>4</td>\n",
       "      <td>82</td>\n",
       "      <td>0</td>\n",
       "      <td>4</td>\n",
       "      <td>2</td>\n",
       "      <td>65.0</td>\n",
       "    </tr>\n",
       "    <tr>\n",
       "      <th>2</th>\n",
       "      <td>8</td>\n",
       "      <td>51</td>\n",
       "      <td>1</td>\n",
       "      <td>7</td>\n",
       "      <td>2</td>\n",
       "      <td>45.0</td>\n",
       "    </tr>\n",
       "    <tr>\n",
       "      <th>3</th>\n",
       "      <td>5</td>\n",
       "      <td>52</td>\n",
       "      <td>1</td>\n",
       "      <td>5</td>\n",
       "      <td>2</td>\n",
       "      <td>36.0</td>\n",
       "    </tr>\n",
       "    <tr>\n",
       "      <th>4</th>\n",
       "      <td>7</td>\n",
       "      <td>75</td>\n",
       "      <td>0</td>\n",
       "      <td>8</td>\n",
       "      <td>5</td>\n",
       "      <td>66.0</td>\n",
       "    </tr>\n",
       "  </tbody>\n",
       "</table>\n",
       "</div>"
      ],
      "text/plain": [
       "   Hours Studied  Previous Scores  Extracurricular Activities  Sleep Hours  \\\n",
       "0              7               99                           1            9   \n",
       "1              4               82                           0            4   \n",
       "2              8               51                           1            7   \n",
       "3              5               52                           1            5   \n",
       "4              7               75                           0            8   \n",
       "\n",
       "   Sample Question Papers Practiced  Performance Index  \n",
       "0                                 1               91.0  \n",
       "1                                 2               65.0  \n",
       "2                                 2               45.0  \n",
       "3                                 2               36.0  \n",
       "4                                 5               66.0  "
      ]
     },
     "execution_count": 5,
     "metadata": {},
     "output_type": "execute_result"
    }
   ],
   "source": [
    "data[\"Extracurricular Activities\"] = boolean_extactivites\n",
    "data.head()"
   ]
  },
  {
   "cell_type": "code",
   "execution_count": 6,
   "id": "e8265d58",
   "metadata": {},
   "outputs": [
    {
     "name": "stdout",
     "output_type": "stream",
     "text": [
      "Shape of y_train (10000,)\n",
      "Shape of x_train (10000, 5)\n"
     ]
    }
   ],
   "source": [
    "y_train = data[\"Performance Index\"].to_numpy()\n",
    "X_train = data.drop(axis=\"columns\",labels=\"Performance Index\").to_numpy().astype(\"float64\")\n",
    "\n",
    "print(\"Shape of y_train\",y_train.shape)\n",
    "print(\"Shape of x_train\",X_train.shape)"
   ]
  },
  {
   "cell_type": "markdown",
   "id": "c628644f",
   "metadata": {},
   "source": [
    "## Mean Normalization\n",
    "\n",
    "When we have features that have different ranges (say one feature is ranged between -3 to 3 and the other is 100 to 1000) this can cause gradient descent to run **slower**. So if we rescale them using one of the normalization techniques, we can overcome this problem. \n",
    "\n",
    "I've used mean normalization technique, which centers the data around 0. Formula for the mean normalization can be written as:\n",
    "\n",
    "***X_normalized = (X_i - X_mean) / (X_max - X_min)***"
   ]
  },
  {
   "cell_type": "code",
   "execution_count": 7,
   "id": "fa35eba5",
   "metadata": {},
   "outputs": [],
   "source": [
    "def compute_normalization_parameters(x):\n",
    "    \"\"\"\n",
    "    computes the needed parameters to perform a mean normalization (max,min and mean)\n",
    "    and returns them in a dict \n",
    "    \"\"\"\n",
    "    x_max = np.max(x)\n",
    "    x_min = np.min(x)\n",
    "    x_mean = np.mean(x)\n",
    "    params = {\"max\":x_max,\"min\":x_min,\"mean\":x_mean}\n",
    "    return params"
   ]
  },
  {
   "cell_type": "code",
   "execution_count": 8,
   "id": "c72177b7",
   "metadata": {},
   "outputs": [
    {
     "name": "stdout",
     "output_type": "stream",
     "text": [
      "{'max': 99, 'min': 40, 'mean': 69.4457}\n"
     ]
    }
   ],
   "source": [
    "test_normalization_parameters = compute_normalization_parameters(data[\"Previous Scores\"])\n",
    "print(test_normalization_parameters)"
   ]
  },
  {
   "cell_type": "markdown",
   "id": "fe76f3f0",
   "metadata": {},
   "source": [
    "* If we want to use our trained model later, we need to normalize new inputs as well. So we'll store normalization parameters in a dict."
   ]
  },
  {
   "cell_type": "code",
   "execution_count": 9,
   "id": "d19a314f",
   "metadata": {},
   "outputs": [
    {
     "name": "stdout",
     "output_type": "stream",
     "text": [
      "[{'max': 9.0, 'min': 1.0, 'mean': 4.9929}, {'max': 99.0, 'min': 40.0, 'mean': 69.4457}, {'max': 1.0, 'min': 0.0, 'mean': 0.4948}, {'max': 9.0, 'min': 4.0, 'mean': 6.5306}, {'max': 9.0, 'min': 0.0, 'mean': 4.5833}]\n"
     ]
    }
   ],
   "source": [
    "features_norm_parameters = []\n",
    "for i in range(X_train.shape[1]):\n",
    "    parameters_i = compute_normalization_parameters(X_train[:,i])\n",
    "    features_norm_parameters.append(parameters_i)\n",
    "\n",
    "print(features_norm_parameters)"
   ]
  },
  {
   "cell_type": "code",
   "execution_count": 10,
   "id": "eed31ff9",
   "metadata": {},
   "outputs": [],
   "source": [
    "def mean_normalize(X,normalization_parameters):\n",
    "    \"takes normalization parameters and performs normalization\"\n",
    "    normalized = (X - normalization_parameters[\"mean\"]) / (normalization_parameters[\"max\"] - normalization_parameters[\"min\"])\n",
    "\n",
    "    return normalized\n"
   ]
  },
  {
   "cell_type": "code",
   "execution_count": 11,
   "id": "b27653a4",
   "metadata": {},
   "outputs": [
    {
     "name": "stdout",
     "output_type": "stream",
     "text": [
      "[ 0.2508875   0.50092034  0.5052      0.49388    -0.39814444]\n"
     ]
    }
   ],
   "source": [
    "for i in range(X_train.shape[1]):\n",
    "    X_train[:,i] = mean_normalize(X_train[:,i],features_norm_parameters[i])\n",
    "\n",
    "print(X_train[0,:])"
   ]
  },
  {
   "cell_type": "markdown",
   "id": "928d1a0f",
   "metadata": {},
   "source": [
    "## Cost Function\n",
    "* I've used Mean Squared Error (MSE) cost function, to compute cost. "
   ]
  },
  {
   "cell_type": "code",
   "execution_count": 12,
   "id": "d3ccf873",
   "metadata": {},
   "outputs": [],
   "source": [
    "def compute_cost(x,y,w,b):\n",
    "    \"\"\"\n",
    "    computes cost using mean squared error formula\n",
    "    x (ndarray) input values\n",
    "    y (scalar) target\n",
    "    w (ndarray),b (scalar) parameters of the model\n",
    "    \n",
    "    returns \n",
    "    total_cost (scalar)\n",
    "    \"\"\"\n",
    "    \n",
    "    m = x.shape[0]\n",
    "    \n",
    "    f_wb = np.dot(x,w) + b\n",
    "    \n",
    "    total_cost = np.sum((f_wb - y) ** 2)\n",
    "    total_cost = total_cost / (2*m)\n",
    "    return total_cost\n",
    "    "
   ]
  },
  {
   "cell_type": "code",
   "execution_count": 13,
   "id": "531317a8",
   "metadata": {},
   "outputs": [
    {
     "data": {
      "text/plain": [
       "(5,)"
      ]
     },
     "execution_count": 13,
     "metadata": {},
     "output_type": "execute_result"
    }
   ],
   "source": [
    "# Initializing parameters as zero.\n",
    "w_init = np.zeros(X_train.shape[1])\n",
    "b_init = 0.0\n",
    "\n",
    "w_init.shape"
   ]
  },
  {
   "cell_type": "code",
   "execution_count": 14,
   "id": "b9dccd8f",
   "metadata": {},
   "outputs": [
    {
     "data": {
      "text/plain": [
       "1709.432"
      ]
     },
     "execution_count": 14,
     "metadata": {},
     "output_type": "execute_result"
    }
   ],
   "source": [
    "compute_cost(X_train,y_train,w_init,b_init)"
   ]
  },
  {
   "cell_type": "markdown",
   "id": "239487d4",
   "metadata": {},
   "source": [
    "## Computing Gradients\n",
    "\n",
    "* In order to update parameters, we need gradients of each parameter. Gradients can be derived using derivation rules. \n",
    "\n",
    "Derivatives of the weights are computed with the formula: ***dJ/dw_i = 2 * sum((f_wb - y)*x_i)/m***"
   ]
  },
  {
   "cell_type": "code",
   "execution_count": 15,
   "id": "369cb2d2",
   "metadata": {},
   "outputs": [],
   "source": [
    "def compute_gradients(w,b,x,y):\n",
    "    \"\"\"\n",
    "    computes gradients of weights\n",
    "    args\n",
    "    w (ndarray (n,)),b (scalar) parameters of the model\n",
    "    x (ndarray (m,n))input features\n",
    "    y (ndarray (m,)) targets \n",
    "    \"\"\"\n",
    "    \n",
    "    # Number of features\n",
    "    n = x.shape[1]\n",
    "    \n",
    "    #Number of samples\n",
    "    m = x.shape[0]\n",
    "    \n",
    "    dj_dw = np.zeros(n,)\n",
    "    dj_db = 0.0\n",
    "    \n",
    "    # Np array consists of predictions\n",
    "    f_wb = np.dot(x,w) + b\n",
    "    \n",
    "    for i in range(n):\n",
    "        dj_dw_i = np.sum((f_wb - y) * x[:,i])\n",
    "        dj_dw_i = dj_dw_i / m\n",
    "        dj_dw[i] = dj_dw_i\n",
    "    \n",
    "    dj_db = np.sum(f_wb - y) / m\n",
    "    \n",
    "    return dj_dw,dj_db\n",
    "    "
   ]
  },
  {
   "cell_type": "code",
   "execution_count": 16,
   "id": "edaeeda3",
   "metadata": {},
   "outputs": [
    {
     "name": "stdout",
     "output_type": "stream",
     "text": [
      "(5,)\n",
      "[-2.32377451 -5.16807299 -0.23556896 -0.31344422 -0.26481935]\n"
     ]
    }
   ],
   "source": [
    "dj_dw_test, dj_db_test = compute_gradients(w_init,b_init,X_train,y_train)\n",
    "print(dj_dw_test.shape)\n",
    "print(dj_dw_test)"
   ]
  },
  {
   "cell_type": "markdown",
   "id": "d36cca1c",
   "metadata": {},
   "source": [
    "## Batch Gradient Descent\n",
    "\n",
    "Batch gradient descent is the algorithm we use to update the parameters using derivatives of each parameter. The reason we call this \"batch\" is we use the whole training data to update the parameters once. \n",
    "\n",
    "Alpha, as known as learning rate is a number we choose and determines how big each step will be. Choosing large numbers may cause the cost to increase (which is a problem since we want to decrease the cost)\n",
    "\n",
    "Choosing small numbers may cause the algorithm to run slow, but it will decrease eventually."
   ]
  },
  {
   "cell_type": "code",
   "execution_count": 17,
   "id": "07c77fb9",
   "metadata": {},
   "outputs": [],
   "source": [
    "def batch_gradient_descent(x,y,w,b,cost_function,gradient_function,alpha,num_iterations):\n",
    "    \"\"\"\n",
    "    performs batch gradient descent\n",
    "    args\n",
    "    x (ndarray (m,n)), y (scalar) = input and target\n",
    "    cost_function function to compute cost\n",
    "    gradient_function function to compute gradients\n",
    "    \"\"\"\n",
    "    \n",
    "    # History of the cost function to see if gradient descent converges\n",
    "    J_history = []\n",
    "    w_updated = copy.deepcopy(w)\n",
    "    b_updated = copy.deepcopy(b)\n",
    "    \n",
    "    for i in range(num_iterations):\n",
    "        cost_i = cost_function(x,y,w_updated,b_updated)\n",
    "        \n",
    "        \n",
    "        dj_dw,dj_db = gradient_function(w_updated,b_updated,x,y)\n",
    "        \n",
    "        w_updated = w_updated - alpha*dj_dw\n",
    "        b_updated = b_updated - alpha*dj_db\n",
    "        \n",
    "        #print(f\"w = {w_updated}\")\n",
    "        #print(f\"b = {b_updated}\")\n",
    "        #print(f\"dj_dw = {dj_dw}\")\n",
    "        #print(f\"dj_db = {dj_db}\")\n",
    "        \n",
    "        if (i+1)%5 == 0:\n",
    "            J_history.append(cost_i)\n",
    "        \n",
    "        if (i+1)%1000 == 0:\n",
    "            print(f\"Iteration {i+1}: Cost: {cost_i}\")\n",
    "            print(\"\\n\")\n",
    "        \n",
    "    return w_updated,b_updated,J_history\n",
    "    "
   ]
  },
  {
   "cell_type": "code",
   "execution_count": 18,
   "id": "7c2446c0",
   "metadata": {},
   "outputs": [
    {
     "name": "stdout",
     "output_type": "stream",
     "text": [
      "Iteration 1000: Cost: 33.40490605058179\n",
      "\n",
      "\n",
      "Iteration 2000: Cost: 7.510973417691677\n",
      "\n",
      "\n",
      "Iteration 3000: Cost: 3.02626813779753\n",
      "\n",
      "\n",
      "Iteration 4000: Cost: 2.24285833416802\n",
      "\n",
      "\n",
      "Iteration 5000: Cost: 2.1051917315809408\n",
      "\n",
      "\n",
      "Iteration 6000: Cost: 2.0809002779811285\n",
      "\n",
      "\n",
      "Iteration 7000: Cost: 2.076601905582224\n",
      "\n",
      "\n",
      "Iteration 8000: Cost: 2.0758398396189683\n",
      "\n",
      "\n",
      "Iteration 9000: Cost: 2.0757045536891208\n",
      "\n",
      "\n",
      "Iteration 10000: Cost: 2.075680515488277\n",
      "\n",
      "\n"
     ]
    }
   ],
   "source": [
    "w,b,J_history = batch_gradient_descent(x=X_train,\n",
    "                                       y=y_train,\n",
    "                                       w=w_init,\n",
    "                                       b=b_init,\n",
    "                                       cost_function=compute_cost,\n",
    "                                       gradient_function=compute_gradients,\n",
    "                                       alpha=0.01,\n",
    "                                       num_iterations=10000\n",
    "                                      )"
   ]
  },
  {
   "cell_type": "code",
   "execution_count": 19,
   "id": "95ad0a92",
   "metadata": {},
   "outputs": [
    {
     "data": {
      "image/png": "[encoded data removed]",
      "text/plain": [
       "<Figure size 640x480 with 1 Axes>"
      ]
     },
     "metadata": {},
     "output_type": "display_data"
    }
   ],
   "source": [
    "plt.plot(J_history)\n",
    "plt.xlabel(\"Number of Iterations\")\n",
    "plt.ylabel(\"Cost\")\n",
    "plt.title(\"Cost After Iterations\")\n",
    "plt.show()"
   ]
  },
  {
   "cell_type": "code",
   "execution_count": 20,
   "id": "49b8e979",
   "metadata": {},
   "outputs": [],
   "source": [
    "# IMPORTANT: Do not forget that we have to normalize the data if it's not in the training set.\n",
    "# The data we predict here is the training set \n",
    "y_pred = np.dot(X_train,w) + b\n"
   ]
  },
  {
   "cell_type": "code",
   "execution_count": 21,
   "id": "1fc24bd8",
   "metadata": {},
   "outputs": [
    {
     "data": {
      "image/png": "[encoded data removed]",
      "text/plain": [
       "<Figure size 640x480 with 5 Axes>"
      ]
     },
     "metadata": {},
     "output_type": "display_data"
    }
   ],
   "source": [
    "fig,ax = plt.subplots(nrows=1,ncols=5,sharey=True)\n",
    "\n",
    "for i in range(len(ax)):\n",
    "    ax[i].scatter(X_train[:,i],y_train,color=\"blue\",label=\"Target\")\n",
    "    ax[i].scatter(X_train[:,i],y_pred,color=\"orange\",label=\"Prediction\")\n",
    "\n",
    "plt.legend()\n",
    "plt.show()\n"
   ]
  },
  {
   "cell_type": "code",
   "execution_count": null,
   "id": "ba688f8f",
   "metadata": {},
   "outputs": [],
   "source": []
  }
 ],
 "metadata": {
  "kernelspec": {
   "display_name": "Python 3 (ipykernel)",
   "language": "python",
   "name": "python3"
  },
  "language_info": {
   "codemirror_mode": {
    "name": "ipython",
    "version": 3
   },
   "file_extension": ".py",
   "mimetype": "text/x-python",
   "name": "python",
   "nbconvert_exporter": "python",
   "pygments_lexer": "ipython3",
   "version": "3.11.4"
  }
 },
 "nbformat": 4,
 "nbformat_minor": 5
}
